{
 "cells": [
  {
   "cell_type": "code",
   "execution_count": null,
   "metadata": {},
   "outputs": [],
   "source": [
    "# TABEL POLYBIUS\n",
    "\n",
    "\n",
    "# \t |  1 \t2 \t3 \t4 \t5\n",
    "#------------------------\n",
    "# 1  |  A \tB \tC \tD \tE\n",
    "# 2  | \tF \tG \tH  I/J \tK\n",
    "# 3  | \tL \tM \tN \tO \tP\n",
    "# 4  | \tQ \tR \tS \tT \tU\n",
    "# 5  | \tV \tW \tX \tY \tZ"
   ]
  },
  {
   "cell_type": "markdown",
   "metadata": {},
   "source": [
    "Enkripsi <br>\n",
    "\n",
    "ekspektasi output: <br>\n",
    "Plaintext \t: SALAM DARI MUNJIN <br>\n",
    "Ciphertext \t: 43 11 31 11 32 14 11 42 24 32 45 33 24 24 33 "
   ]
  },
  {
   "cell_type": "code",
   "execution_count": 1,
   "metadata": {},
   "outputs": [
    {
     "name": "stdout",
     "output_type": "stream",
     "text": [
      "Ciphertext \t: 43 11 31 11 32 14 11 42 24 32 45 33 24 24 33 "
     ]
    }
   ],
   "source": [
    "# database\n",
    "poly = [[\"//\",\"1\",\"2\",\"3\",\"4\",\"5\"],\n",
    "        [\"/1\",\"A\",\"B\",\"C\",\"D\",\"E\"],\n",
    "        [\"/2\",\"F\",\"G\",\"H\",\"I\",\"K\"],\n",
    "        [\"/3\",\"L\",\"M\",\"N\",\"O\",\"P\"],\n",
    "        [\"/4\",\"Q\",\"R\",\"S\",\"T\",\"U\"],\n",
    "        [\"/5\",\"V\",\"W\",\"X\",\"Y\",\"Z\"]]\n",
    "\n",
    "# another output example:\n",
    "# plain  : BOLAKU\n",
    "# cipher : 12 34 31 11 25 45\n",
    "\n",
    "# plain  : ijin\n",
    "# cipher : 24 24 24 33\n",
    "\n",
    "inp = input('Plaintext \\t: ').upper()\n",
    "print(\"Ciphertext \\t:\", end = \" \")\n",
    "\n",
    "# enkripsi\n",
    "for i in inp:\n",
    "  if i == \"J\":\n",
    "    print(\"24\", end=' ')\n",
    "\n",
    "  for j,k in enumerate(poly):\n",
    "    if i in k:\n",
    "      print(j, k.index(i), sep='', end=' ')"
   ]
  },
  {
   "cell_type": "markdown",
   "metadata": {},
   "source": [
    "Dekripsi <br>\n",
    "\n",
    "Ekspektasi: <br>\n",
    "Ciphertext \t: 43 11 31 11 32 14 11 42 24 32 45 33 24 24 33 <br>\n",
    "Plaintext \t: SALAMDARIMUNIIN"
   ]
  },
  {
   "cell_type": "code",
   "execution_count": 4,
   "metadata": {},
   "outputs": [
    {
     "name": "stdout",
     "output_type": "stream",
     "text": [
      "Plaintext \t: SALAMDARIMUNIIN\n"
     ]
    }
   ],
   "source": [
    "# variabel\n",
    "poly2 = [[\"A\",\"B\",\"C\",\"D\",\"E\"],\n",
    "        [\"F\",\"G\",\"H\",\"I\",\"K\"],\n",
    "        [\"L\",\"M\",\"N\",\"O\",\"P\"],\n",
    "        [\"Q\",\"R\",\"S\",\"T\",\"U\"],\n",
    "        [\"V\",\"W\",\"X\",\"Y\",\"Z\"]]\n",
    "\n",
    "input = input(\"Ciphertext \\t: \")\n",
    "input = input.replace(\" \", \"\")\n",
    "\n",
    "ciphertext = []\n",
    "for i in range(0, len(input), 2):\n",
    "    ciphertext.append(input[i : i + 2])\n",
    "\n",
    "plaintext = []\n",
    "\n",
    "# dekripsi\n",
    "for huruf in ciphertext:\n",
    "    baris = int(huruf[0])\n",
    "    kolom = int(huruf[1])\n",
    "    dekripsi = poly2[baris - 1][kolom - 1]\n",
    "    plaintext.append(dekripsi)\n",
    "\n",
    "print(\"Plaintext \\t:\", ''.join(plaintext))\n",
    "\n",
    "# delete input as string,\n",
    "# sehingga cell dapat dijalankan ulang tanpa restart runtime\n",
    "del input"
   ]
  }
 ],
 "metadata": {
  "kernelspec": {
   "display_name": "Python 3",
   "language": "python",
   "name": "python3"
  },
  "language_info": {
   "codemirror_mode": {
    "name": "ipython",
    "version": 3
   },
   "file_extension": ".py",
   "mimetype": "text/x-python",
   "name": "python",
   "nbconvert_exporter": "python",
   "pygments_lexer": "ipython3",
   "version": "3.11.5"
  }
 },
 "nbformat": 4,
 "nbformat_minor": 2
}
