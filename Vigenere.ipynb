{
 "cells": [
  {
   "cell_type": "markdown",
   "metadata": {},
   "source": [
    "Enkripsi <br>\n",
    "\n",
    "Ekspektasi: <br>\n",
    "Plaintext \t: Mengapa Ini TerJADI <br>\n",
    "Key \t\t: hayolo <br>\n",
    "\n",
    "Ciphertext \t: teluldhilwesyjyrt <br>"
   ]
  },
  {
   "cell_type": "code",
   "execution_count": 2,
   "metadata": {},
   "outputs": [
    {
     "name": "stdout",
     "output_type": "stream",
     "text": [
      "{'a': 0, 'b': 1, 'c': 2, 'd': 3, 'e': 4, 'f': 5, 'g': 6, 'h': 7, 'i': 8, 'j': 9, 'k': 10, 'l': 11, 'm': 12, 'n': 13, 'o': 14, 'p': 15, 'q': 16, 'r': 17, 's': 18, 't': 19, 'u': 20, 'v': 21, 'w': 22, 'x': 23, 'y': 24, 'z': 25}\n",
      "{0: 'a', 1: 'b', 2: 'c', 3: 'd', 4: 'e', 5: 'f', 6: 'g', 7: 'h', 8: 'i', 9: 'j', 10: 'k', 11: 'l', 12: 'm', 13: 'n', 14: 'o', 15: 'p', 16: 'q', 17: 'r', 18: 's', 19: 't', 20: 'u', 21: 'v', 22: 'w', 23: 'x', 24: 'y', 25: 'z'}\n"
     ]
    }
   ],
   "source": [
    "alp = \"abcdefghijklmnopqrstuvwxyz\"\n",
    "\n",
    "letter_to_index = dict(zip(alp, range(26)))\n",
    "index_to_letter = dict(zip(range(26), alp))\n",
    "\n",
    "print(letter_to_index)\n",
    "print(index_to_letter)"
   ]
  },
  {
   "cell_type": "code",
   "execution_count": 3,
   "metadata": {},
   "outputs": [
    {
     "name": "stdout",
     "output_type": "stream",
     "text": [
      "------------------------\n",
      "\n",
      "Ciphertext \t: teluldhilwesyjyrt\n"
     ]
    }
   ],
   "source": [
    "inp = input(\"Plaintext \\t: \").lower().replace(\" \", \"\")\n",
    "key = input(\"Key \\t\\t: \").lower()\n",
    "cipher = \"\"\n",
    "\n",
    "split_input = [inp[i : i + len(key)] for i in range(0, len(inp), len(key))]\n",
    "\n",
    "for each_split in split_input:\n",
    "  i = 0\n",
    "  for lt in each_split:\n",
    "    nbr = (letter_to_index[lt] + letter_to_index[key[i]]) % 26\n",
    "    cipher += index_to_letter[nbr]\n",
    "    i += 1\n",
    "\n",
    "print(\"------------------------\")\n",
    "print(\"\\nCiphertext \\t: \" +cipher)"
   ]
  },
  {
   "cell_type": "markdown",
   "metadata": {},
   "source": [
    "Dekripsi <br>\n",
    "\n",
    "Ekspektasi: <br>\n",
    "Plaintext \t: Teluldh iLw EsyjyRt <br>\n",
    "Key \t\t: hayolo <br>\n",
    "\n",
    "Ciphertext \t: mengapainiterjadi <br>"
   ]
  },
  {
   "cell_type": "code",
   "execution_count": 4,
   "metadata": {},
   "outputs": [
    {
     "name": "stdout",
     "output_type": "stream",
     "text": [
      "------------------------\n",
      "\n",
      "Plaintext \t: mengapainiterjadi\n"
     ]
    }
   ],
   "source": [
    "chip = input(\"Ciphertext \\t: \").lower().replace(\" \", \"\")\n",
    "key = input(\"Key \\t\\t: \").lower()\n",
    "plaintext = \"\"\n",
    "\n",
    "split_chip = [chip[i : i + len(key)] for i in range(0, len(chip), len(key))]\n",
    "\n",
    "for each_split in split_chip:\n",
    "    i = 0\n",
    "    for letter in each_split:\n",
    "        nbr = (letter_to_index[letter] - letter_to_index[key[i]]) % 26\n",
    "        plaintext += index_to_letter[nbr]\n",
    "        i += 1\n",
    "\n",
    "print(\"------------------------\")\n",
    "print(\"\\nPlaintext \\t: \" +plaintext)"
   ]
  }
 ],
 "metadata": {
  "kernelspec": {
   "display_name": "Python 3",
   "language": "python",
   "name": "python3"
  },
  "language_info": {
   "codemirror_mode": {
    "name": "ipython",
    "version": 3
   },
   "file_extension": ".py",
   "mimetype": "text/x-python",
   "name": "python",
   "nbconvert_exporter": "python",
   "pygments_lexer": "ipython3",
   "version": "3.11.5"
  }
 },
 "nbformat": 4,
 "nbformat_minor": 2
}
