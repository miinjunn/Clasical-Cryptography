{
 "cells": [
  {
   "cell_type": "markdown",
   "metadata": {},
   "source": [
    "Enkripsi <br>\n",
    "\n",
    "expektasi: <br>\n",
    "plain: The quick brown fox jumps over the lazy dog <br>\n",
    "shift : 23 <br>\n",
    "\n",
    "cipher text: qeb nrfzh yoltk clu grjmp lsbo qeb ixwv ald\n"
   ]
  },
  {
   "cell_type": "code",
   "execution_count": 1,
   "metadata": {},
   "outputs": [
    {
     "name": "stdout",
     "output_type": "stream",
     "text": [
      "\n",
      "cipher text: qeb nrfzh yoltk clu grjmp lsbo qeb ixwv ald\n"
     ]
    }
   ],
   "source": [
    "# database\n",
    "alp = 'abcdefghijklmnopqrstuvwxyz'\n",
    "\n",
    "# input user\n",
    "inp = input('plain : ').lower()\n",
    "sft = int(input('shift : '))\n",
    "\n",
    "# list\n",
    "lst = []\n",
    "\n",
    "# shifting\n",
    "for i in inp:\n",
    "  if i.strip():\n",
    "    shifting = alp[(alp.index(i) + sft) % 26]\n",
    "    lst.append(shifting)\n",
    "  else:\n",
    "    lst.append(i)\n",
    "\n",
    "spc = ''\n",
    "print('\\ncipher text:', spc.join(lst))"
   ]
  },
  {
   "cell_type": "markdown",
   "metadata": {},
   "source": [
    "Dekripsi <br>\n",
    "\n",
    "Ekspektasi: <br>\n",
    "cipher : QEB NRfzH yolTk clU grjmp lsbo qeb ixwv ald <br>\n",
    "shift : 23 <br>\n",
    "\n",
    "plain text: the quick brown fox jumps over the lazy dog"
   ]
  },
  {
   "cell_type": "code",
   "execution_count": 3,
   "metadata": {},
   "outputs": [
    {
     "name": "stdout",
     "output_type": "stream",
     "text": [
      "\n",
      "plain text: the quick brown fox jumps over the lazy dog\n"
     ]
    }
   ],
   "source": [
    "# database\n",
    "alp = 'abcdefghijklmnopqrstuvwxyz'\n",
    "\n",
    "# input user\n",
    "inp = input('cipher : ').lower()\n",
    "sft = int(input('shift : '))\n",
    "\n",
    "# list\n",
    "lst = []\n",
    "\n",
    "# shifting\n",
    "for i in inp:\n",
    "  if i.strip():\n",
    "    shifting = alp[(alp.index(i) - sft)]\n",
    "    lst.append(shifting)\n",
    "  else:\n",
    "    lst.append(i)\n",
    "\n",
    "spc = ''\n",
    "print('\\nplain text:', spc.join(lst))"
   ]
  }
 ],
 "metadata": {
  "kernelspec": {
   "display_name": "Python 3",
   "language": "python",
   "name": "python3"
  },
  "language_info": {
   "codemirror_mode": {
    "name": "ipython",
    "version": 3
   },
   "file_extension": ".py",
   "mimetype": "text/x-python",
   "name": "python",
   "nbconvert_exporter": "python",
   "pygments_lexer": "ipython3",
   "version": "3.11.5"
  }
 },
 "nbformat": 4,
 "nbformat_minor": 2
}
