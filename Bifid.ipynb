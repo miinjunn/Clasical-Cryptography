{
 "cells": [
  {
   "cell_type": "markdown",
   "metadata": {},
   "source": [
    "Enkripsi <br>\n",
    "\n",
    "Ekspektasi output: <br>\n",
    "Plaintext \t: RAHASIA MunJ <br>\n",
    "Ciphertext \t: PFQCWHCDPKT"
   ]
  },
  {
   "cell_type": "code",
   "execution_count": 1,
   "metadata": {},
   "outputs": [
    {
     "name": "stdout",
     "output_type": "stream",
     "text": [
      "-----------------------------------\n",
      "Ciphertext \t: PFQCWHCDPKT\n"
     ]
    }
   ],
   "source": [
    "import math\n",
    "\n",
    "tableau = [['A','B','C','D','E'],\n",
    "           ['F','G','H','I','J'],\n",
    "           ['K','L','M','N','O'],\n",
    "           ['P','Q','R','S','T'],\n",
    "           ['U','V','W','X','Y']]\n",
    "\n",
    "# fungsi untuk mendapatkan posisi dari huruf yg diinginkan\n",
    "def getPosition(letter):\n",
    "    for i in range(0,5):\n",
    "        for j in range(0,5):\n",
    "            if(letter == tableau[i][j]):\n",
    "                return [i, j]\n",
    "    return 0\n",
    "\n",
    "# bagi list menjadi 2 bagian\n",
    "def split_list(a_list):\n",
    "    half = len(a_list) // 2\n",
    "    return a_list[:half], a_list[half:]\n",
    "\n",
    "# enkripsi\n",
    "def encrypt(plain):\n",
    "    upper, lower, one, letters = [], [], [], []\n",
    "\n",
    "    # melakukan iterasi dan get posisi dari setiap huruf\n",
    "    for c in plain:\n",
    "        position = getPosition(c)\n",
    "        if(position):\n",
    "            upper.append(position[0])\n",
    "            lower.append(position[1])\n",
    "\n",
    "    # merge upper dan lower lists\n",
    "    one = upper + lower\n",
    "\n",
    "    # reaarage, serta mengubah menjadi huruf berdasarkan tableau\n",
    "    for i in range(0,len(one),2):\n",
    "        letters.append(tableau[one[i]][one[i+1]])\n",
    "\n",
    "    # convert list ke string\n",
    "    cyphered = ''.join(letters)\n",
    "\n",
    "    print(\"-----------------------------------\")\n",
    "    print(\"Ciphertext \\t:\", end=\" \")\n",
    "    \n",
    "    return cyphered\n",
    "\n",
    "# main\n",
    "instructions = []\n",
    "instructions = str(input(\"Plaintext \\t: \")).upper().replace(\" \",\"\")\n",
    "instructions = [ line.strip('\\n') for line in instructions ]\n",
    "\n",
    "ciphertxt = encrypt(instructions)\n",
    "print(ciphertxt)"
   ]
  },
  {
   "cell_type": "markdown",
   "metadata": {},
   "source": [
    "Dekripsi <br>\n",
    "\n",
    "Ekspektasi output: <br>\n",
    "Plaintext \t: PFQCWHCDPKT <br>\n",
    "Ciphertext \t: RAHASIAMUNJ"
   ]
  },
  {
   "cell_type": "code",
   "execution_count": 2,
   "metadata": {},
   "outputs": [
    {
     "name": "stdout",
     "output_type": "stream",
     "text": [
      "-----------------------------------\n",
      "Plaintext \t: RAHASIAMUNJ\n"
     ]
    }
   ],
   "source": [
    "import math\n",
    "\n",
    "tableau = [['A','B','C','D','E'],\n",
    "           ['F','G','H','I','J'],\n",
    "           ['K','L','M','N','O'],\n",
    "           ['P','Q','R','S','T'],\n",
    "           ['U','V','W','X','Y']]\n",
    "\n",
    "# fungsi untuk mendapatkan posisi dari huruf yg diinginkan\n",
    "def getPosition(letter):\n",
    "    for i in range(0,5):\n",
    "        for j in range(0,5):\n",
    "            if(letter == tableau[i][j]):\n",
    "                return [i, j]\n",
    "    return 0\n",
    "\n",
    "# bagi list menjadi 2 bagian\n",
    "def split_list(a_list):\n",
    "    half = len(a_list) // 2\n",
    "    return a_list[:half], a_list[half:]\n",
    "\n",
    "# dekripsi\n",
    "def decrypt(cyphered):\n",
    "    upper, lower, one, letters = [], [], [], []\n",
    "\n",
    "    # melakukan iterasi dan get posisi dari setiap huruf\n",
    "    for c in cyphered:\n",
    "        position = getPosition(c)\n",
    "        if(position):\n",
    "            one.append(position[0])\n",
    "            one.append(position[1])\n",
    "\n",
    "    # split upper dan lower lists\n",
    "    upper, lower = split_list(one)\n",
    "\n",
    "    # grup tiap elemen pada upper dengan lowernya\n",
    "    # rearrange, dan mengubah menjadi plain\n",
    "    for i in range(0,len(upper)):\n",
    "        letters.append(tableau[upper[i]][lower[i]])\n",
    "\n",
    "    # convert list ke string\n",
    "    message  = ''.join(letters)\n",
    "\n",
    "    print(\"-----------------------------------\")\n",
    "    print(\"Plaintext \\t:\", end=\" \")\n",
    "\n",
    "    return message\n",
    "\n",
    "instructions = []\n",
    "instructions = input(\"Ciphertext \\t: \").upper().replace(\" \",\"\")\n",
    "instructions = [ line.strip('\\n') for line in instructions ]\n",
    "\n",
    "ciphertxt = decrypt(instructions)\n",
    "print(ciphertxt)"
   ]
  }
 ],
 "metadata": {
  "kernelspec": {
   "display_name": ".venv",
   "language": "python",
   "name": "python3"
  },
  "language_info": {
   "codemirror_mode": {
    "name": "ipython",
    "version": 3
   },
   "file_extension": ".py",
   "mimetype": "text/x-python",
   "name": "python",
   "nbconvert_exporter": "python",
   "pygments_lexer": "ipython3",
   "version": "3.11.5"
  }
 },
 "nbformat": 4,
 "nbformat_minor": 2
}
